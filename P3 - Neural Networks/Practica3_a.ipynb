{
 "cells": [
  {
   "cell_type": "markdown",
   "metadata": {},
   "source": [
    "## Práctica 3 - Deep Learning: Perceptrón Multicapa\n",
    "\n",
    "Durante este primera apartado, vamos a empezar con un algoritmo generador de datos como aquel visto en la P-2. Este algoritmo será el encargo de crear sintéticamente la sample con la que vamos a entrenar a nuestro modelo de IA."
   ]
  },
  {
   "cell_type": "code",
   "execution_count": null,
   "metadata": {
    "vscode": {
     "languageId": "plaintext"
    }
   },
   "outputs": [],
   "source": [
    "def genera_personas():\n",
    "    "
   ]
  },
  {
   "cell_type": "markdown",
   "metadata": {},
   "source": [
    "***\n",
    "**Jaime Alonso Fernández**  \n",
    "**Universidad Complutense de Madrid**  \n",
    "**Grado en Ingeniería del Software (Plan 2019)**  \n",
    "**Asignatura de Aprendizaje Automático y Big Data**\n",
    "***\n",
    "\n"
   ]
  }
 ],
 "metadata": {
  "language_info": {
   "name": "python"
  }
 },
 "nbformat": 4,
 "nbformat_minor": 2
}
