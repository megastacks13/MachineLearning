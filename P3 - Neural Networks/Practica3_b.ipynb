{
 "cells": [
  {
   "cell_type": "markdown",
   "metadata": {},
   "source": [
    "## Práctica 3 - Deep Learning: Red Neuronal Convolucional (CNN)"
   ]
  },
  {
   "cell_type": "markdown",
   "metadata": {},
   "source": [
    "***\n",
    "**Jaime Alonso Fernández**  \n",
    "**Universidad Complutense de Madrid**  \n",
    "**Grado en Ingeniería del Software (Plan 2019)**  \n",
    "**Asignatura de Aprendizaje Automático y Big Data**\n",
    "***\n",
    "\n"
   ]
  }
 ],
 "metadata": {
  "language_info": {
   "name": "python"
  }
 },
 "nbformat": 4,
 "nbformat_minor": 2
}
